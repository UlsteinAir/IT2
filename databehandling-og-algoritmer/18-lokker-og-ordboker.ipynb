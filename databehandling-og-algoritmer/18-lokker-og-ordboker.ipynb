{
 "cells": [
  {
   "cell_type": "markdown",
   "metadata": {},
   "source": [
    "# Løkker og ordbøker"
   ]
  },
  {
   "cell_type": "markdown",
   "metadata": {},
   "source": [
    "## Eksempel: For-løkke og ordbok"
   ]
  },
  {
   "cell_type": "code",
   "execution_count": 1,
   "metadata": {},
   "outputs": [
    {
     "name": "stdout",
     "output_type": "stream",
     "text": [
      "David Ravi Manikarnika\n",
      "Databrus\n"
     ]
    }
   ],
   "source": [
    "lærer = {\n",
    "    \"navn\": \"David Ravi Manikarnika\",\n",
    "    \"alder\": 39,\n",
    "    \"yrke\": \"Lærer\",\n",
    "    \"favorittmat\": [\"Pasta\", \"Grandiosa\", \"Databrus\"],\n",
    "    123: \"favorittall\", # tall kan også være nøkler, men det er litt uvanlig\n",
    "    (\"alder\", \"yrke\"): [39, \"lærer\"] # tupler (en slags liste) kan også være nøkler, ikke vanlig i IT2\n",
    "}\n",
    "\n",
    "# oppvarming:\n",
    "# a. print navn i terminalen\n",
    "print(lærer[\"navn\"])\n",
    "# b. print databrus i terminalen\n",
    "print(lærer[\"favorittmat\"][2])\n"
   ]
  },
  {
   "cell_type": "code",
   "execution_count": 5,
   "metadata": {},
   "outputs": [
    {
     "name": "stdout",
     "output_type": "stream",
     "text": [
      "nøkkel: navn, verdi: David Ravi Manikarnika\n",
      "nøkkel: alder, verdi: 39\n",
      "nøkkel: yrke, verdi: Lærer\n",
      "nøkkel: favorittmat, verdi: ['Pasta', 'Grandiosa', 'Databrus']\n",
      "nøkkel: 123, verdi: favorittall\n",
      "nøkkel: ('alder', 'yrke'), verdi: [39, 'lærer']\n"
     ]
    }
   ],
   "source": [
    "for nøkkel in lærer: # en for-løkke som går gjennom en ordbok vil gå gjennom nøklene i ordboken\n",
    "    print(f\"nøkkel: {nøkkel}, verdi: {lærer[nøkkel]}\")\n",
    "    "
   ]
  },
  {
   "cell_type": "markdown",
   "metadata": {},
   "source": [
    "## Eksempel: Telling med ordbøker"
   ]
  },
  {
   "cell_type": "code",
   "execution_count": 15,
   "metadata": {},
   "outputs": [
    {
     "name": "stdout",
     "output_type": "stream",
     "text": [
      "{'navn': 'Lewis Hamilton', 'nasjonalitet': 'britisk', 'team': 'Mercedes', 'bilnummer': 44}\n",
      "Lewis Hamilton\n",
      "britisk\n",
      "Mercedes\n",
      "44\n",
      "Daniel Ricciardo\n",
      "australsk\n",
      "McLaren\n",
      "3\n",
      "Lando Norris\n",
      "britisk\n",
      "McLaren\n",
      "4\n",
      "Esteban Ocon\n",
      "fransk\n",
      "Alpine\n",
      "31\n",
      "George Russell\n",
      "britisk\n",
      "Williams\n",
      "63\n",
      "Pierre Gasly\n",
      "fransk\n",
      "AlphaTauri\n",
      "10\n",
      "Max Verstappen\n",
      "nederlandsk\n",
      "Red Bull Racing Honda\n",
      "33\n",
      "Sergio Perez\n",
      "meksikansk\n",
      "Red Bull Racing Honda\n",
      "11\n",
      "Valtteri Bottas\n",
      "finsk\n",
      "Mercedes\n",
      "77\n",
      "Charles Leclerc\n",
      "monegaskisk\n",
      "Ferrari\n",
      "16\n",
      "Fernando Alonso\n",
      "spansk\n",
      "Alpine\n",
      "14\n",
      "Sebastian Vettel\n",
      "tysk\n",
      "Aston Martin Mercedes\n",
      "5\n",
      "Lance Stroll\n",
      "kanadisk\n",
      "Aston Martin Mercedes\n",
      "18\n",
      "Yuki Tsunoda\n",
      "japansk\n",
      "AlphaTauri Honda\n",
      "22\n",
      "Kimi Räikkönen\n",
      "finsk\n",
      "Alfa Romeo Racing Ferrari\n",
      "7\n",
      "Nicholas Latifi\n",
      "kanadisk\n",
      "Williams Mercedes\n",
      "6\n",
      "Antonio Giovinazzi\n",
      "italiensk\n",
      "Alfa Romeo Racing Ferrari\n",
      "99\n",
      "Mick Schumacher\n",
      "tysk\n",
      "Haas Ferrari\n",
      "47\n",
      "Nikita Mazepin\n",
      "russisk\n",
      "Haas Ferrari\n",
      "9\n"
     ]
    }
   ],
   "source": [
    "f1_sjåfører = [\n",
    "    {\"navn\": \"Lewis Hamilton\", \"nasjonalitet\": \"britisk\", \"team\": \"Mercedes\", \"bilnummer\": 44},\n",
    "    {\"navn\": \"Daniel Ricciardo\", \"nasjonalitet\": \"australsk\", \"team\": \"McLaren\", \"bilnummer\": 3},\n",
    "    {\"navn\": \"Lando Norris\", \"nasjonalitet\": \"britisk\", \"team\": \"McLaren\", \"bilnummer\": 4},\n",
    "    {\"navn\": \"Esteban Ocon\", \"nasjonalitet\": \"fransk\", \"team\": \"Alpine\", \"bilnummer\": 31},\n",
    "    {\"navn\": \"George Russell\", \"nasjonalitet\": \"britisk\", \"team\": \"Williams\", \"bilnummer\": 63},\n",
    "    {\"navn\": \"Pierre Gasly\", \"nasjonalitet\": \"fransk\", \"team\": \"AlphaTauri\", \"bilnummer\": 10},\n",
    "    {\"navn\": \"Max Verstappen\", \"nasjonalitet\": \"nederlandsk\", \"team\": \"Red Bull Racing Honda\", \"bilnummer\": 33},\n",
    "    {\"navn\": \"Sergio Perez\", \"nasjonalitet\": \"meksikansk\", \"team\": \"Red Bull Racing Honda\", \"bilnummer\": 11},\n",
    "    {\"navn\": \"Valtteri Bottas\", \"nasjonalitet\": \"finsk\", \"team\": \"Mercedes\", \"bilnummer\": 77},\n",
    "    {\"navn\": \"Charles Leclerc\", \"nasjonalitet\": \"monegaskisk\", \"team\": \"Ferrari\", \"bilnummer\": 16},\n",
    "    {\"navn\": \"Fernando Alonso\", \"nasjonalitet\": \"spansk\", \"team\": \"Alpine\", \"bilnummer\": 14},\n",
    "    {\"navn\": \"Sebastian Vettel\", \"nasjonalitet\": \"tysk\", \"team\": \"Aston Martin Mercedes\", \"bilnummer\": 5},\n",
    "    {\"navn\": \"Lance Stroll\", \"nasjonalitet\": \"kanadisk\", \"team\": \"Aston Martin Mercedes\", \"bilnummer\": 18},\n",
    "    {\"navn\": \"Yuki Tsunoda\", \"nasjonalitet\": \"japansk\", \"team\": \"AlphaTauri Honda\", \"bilnummer\": 22},\n",
    "    {\"navn\": \"Kimi Räikkönen\", \"nasjonalitet\": \"finsk\", \"team\": \"Alfa Romeo Racing Ferrari\", \"bilnummer\": 7},\n",
    "    {\"navn\": \"Nicholas Latifi\", \"nasjonalitet\": \"kanadisk\", \"team\": \"Williams Mercedes\", \"bilnummer\": 6},\n",
    "    {\"navn\": \"Antonio Giovinazzi\", \"nasjonalitet\": \"italiensk\", \"team\": \"Alfa Romeo Racing Ferrari\", \"bilnummer\": 99},\n",
    "    {\"navn\": \"Mick Schumacher\", \"nasjonalitet\": \"tysk\", \"team\": \"Haas Ferrari\", \"bilnummer\": 47},\n",
    "    {\"navn\": \"Nikita Mazepin\", \"nasjonalitet\": \"russisk\", \"team\": \"Haas Ferrari\", \"bilnummer\": 9},\n",
    "]\n",
    "lewis = f1_sjåfører[0]\n",
    "print(lewis)\n",
    "# Oppgave: print på hver sin linje alle verdiene  i ordboken lewis\n",
    "for sjåfør in f1_sjåfører:\n",
    "    for nøkkel in sjåfør:\n",
    "        print(f\"{sjåfør[nøkkel]}\")"
   ]
  },
  {
   "cell_type": "code",
   "execution_count": 22,
   "metadata": {},
   "outputs": [
    {
     "name": "stdout",
     "output_type": "stream",
     "text": [
      "Antall briter: 3\n"
     ]
    }
   ],
   "source": [
    "antall_briter = 0 \n",
    "for sjåfør in f1_sjåfører:\n",
    "    if sjåfør[\"nasjonalitet\"] == \"britisk\":\n",
    "        antall_briter += 1\n",
    "print(f\"Antall briter: {antall_briter}\")"
   ]
  },
  {
   "cell_type": "code",
   "execution_count": 25,
   "metadata": {},
   "outputs": [
    {
     "name": "stdout",
     "output_type": "stream",
     "text": [
      "{'britisk': 3, 'tysk': 2}\n",
      "3\n"
     ]
    }
   ],
   "source": [
    "nasjonaliteter = {}\n",
    "nasjonaliteter[\"britisk\"] = 3\n",
    "nasjonaliteter[\"tysk\"] = 2\n",
    "print(nasjonaliteter)\n",
    "print(nasjonaliteter[\"britisk\"])"
   ]
  },
  {
   "cell_type": "code",
   "execution_count": 32,
   "metadata": {},
   "outputs": [
    {
     "name": "stdout",
     "output_type": "stream",
     "text": [
      "{'britisk': 3, 'australsk': 1, 'fransk': 2, 'nederlandsk': 1, 'meksikansk': 1, 'finsk': 2, 'monegaskisk': 1, 'spansk': 1, 'tysk': 2, 'kanadisk': 2, 'japansk': 1, 'italiensk': 1, 'russisk': 1}\n"
     ]
    }
   ],
   "source": [
    "antall_nasjonaliteter = {} # lager en tom ordbok som skal fylles med nasjonaliteter\n",
    "for sjåfør in f1_sjåfører: # for hver sjåfør i lista f1_sjåfører\n",
    "    nasjonalitet_sjåfør = sjåfør[\"nasjonalitet\"] # hent ut nasjonaliteten til sjåføren f.eks: tysk \n",
    "    if nasjonalitet_sjåfør not in antall_nasjonaliteter: # sjekker om nasjonaliteten ikke finnes i ordboken \n",
    "        antall_nasjonaliteter[nasjonalitet_sjåfør] = 1 # legg til nasjonaliteten i ordboken og gi verdien 1\n",
    "    else: # hvis nasjonaliteten allerede finnes i ordboken:\n",
    "        antall_nasjonaliteter[nasjonalitet_sjåfør] += 1 # øk verdien til nasjonaliteten med 1\n",
    "        \n",
    "print(antall_nasjonaliteter)"
   ]
  },
  {
   "cell_type": "code",
   "execution_count": 77,
   "metadata": {},
   "outputs": [
    {
     "name": "stdout",
     "output_type": "stream",
     "text": [
      "I Sandvika er det 12.2 grader og fog\n"
     ]
    }
   ],
   "source": [
    "# API-er\n",
    "import requests\n",
    "from IPython.display import Image \n",
    "\n",
    "respons = requests.get(\"https://deckofcardsapi.com/api/deck/new/draw/?count=2\")\n",
    "data = respons.json()\n",
    "data[\"cards\"][0][\"image\"]\n",
    "\n",
    "\n",
    "respons = requests.get(\"https://api.met.no/weatherapi/locationforecast/2.0/complete?lat=33.98&lon=-118.47\" , headers={ 'User-Agent': 'Python'})\n",
    "data = respons.json()\n",
    "\n",
    "værtype = data[\"properties\"][\"timeseries\"][0][\"data\"][\"next_1_hours\"][\"summary\"][\"symbol_code\"]\n",
    "temperatur = data[\"properties\"][\"timeseries\"][0][\"data\"][\"instant\"][\"details\"][\"air_temperature\"]\n",
    "print(f\"I Sandvika er det {temperatur} grader og {værtype}\")"
   ]
  },
  {
   "cell_type": "markdown",
   "metadata": {},
   "source": [
    "## Oppgaver"
   ]
  },
  {
   "cell_type": "markdown",
   "metadata": {},
   "source": [
    "### Oppgave 2.9\n",
    "\n",
    "1. Kopier listen med vinnere av gullballen 👇👇 inn i en python-fil og print ordboken til den første spilleren.\n",
    "2. Lag en for-løkke som printer navn og nasjonalitet på hver spiller.\n",
    "3. Utvid koden slik at for-løkken også printer antall gullballer spillerne har vunnet."
   ]
  },
  {
   "cell_type": "code",
   "execution_count": 37,
   "metadata": {},
   "outputs": [
    {
     "name": "stdout",
     "output_type": "stream",
     "text": [
      "{'navn': 'Luís Figo', 'år': [2000], 'nasjonalitet': 'Portugal', 'klubber': ['Real Madrid']}\n",
      "Luís Figo: Portugal\n",
      "Michael Owen: England\n",
      "Ronaldo: Brasil\n",
      "Pavel Nedvěd: Tsjekkia\n",
      "Andriy Shevchenko: Ukraina\n",
      "Ronaldinho: Brasil\n",
      "Fabio Cannavaro: Italia\n",
      "Kaká: Brasil\n",
      "Cristiano Ronaldo: Portugal\n",
      "Lionel Messi: Argentina\n",
      "Luka Modric: Kroatia\n",
      "Karim Benzema: Frankrike\n",
      "Luís Figo fra Portugal har vunnet 1\n",
      "Michael Owen fra England har vunnet 1\n",
      "Ronaldo fra Brasil har vunnet 1\n",
      "Pavel Nedvěd fra Tsjekkia har vunnet 1\n",
      "Andriy Shevchenko fra Ukraina har vunnet 1\n",
      "Ronaldinho fra Brasil har vunnet 1\n",
      "Fabio Cannavaro fra Italia har vunnet 1\n",
      "Kaká fra Brasil har vunnet 1\n",
      "Cristiano Ronaldo fra Portugal har vunnet 5\n",
      "Lionel Messi fra Argentina har vunnet 8\n",
      "Luka Modric fra Kroatia har vunnet 1\n",
      "Karim Benzema fra Frankrike har vunnet 1\n"
     ]
    }
   ],
   "source": [
    "gullballen = [\n",
    "  {\n",
    "    \"navn\": \"Luís Figo\",\n",
    "    \"år\": [2000],\n",
    "    \"nasjonalitet\": \"Portugal\",\n",
    "    \"klubber\": [\"Real Madrid\"]\n",
    "  },\n",
    "  {\n",
    "    \"navn\": \"Michael Owen\",\n",
    "    \"år\": [2001],\n",
    "    \"nasjonalitet\": \"England\",\n",
    "    \"klubber\": [\"Liverpool\"]\n",
    "  },\n",
    "  {\n",
    "    \"navn\": \"Ronaldo\",\n",
    "    \"år\": [2002],\n",
    "    \"nasjonalitet\": \"Brasil\",\n",
    "    \"klubber\": [\"Real Madrid\"]\n",
    "  },\n",
    "  {\n",
    "    \"navn\": \"Pavel Nedvěd\",\n",
    "    \"år\": [2003],\n",
    "    \"nasjonalitet\": \"Tsjekkia\",\n",
    "    \"klubber\": [\"Juventus\"]\n",
    "  },\n",
    "  {\n",
    "    \"navn\": \"Andriy Shevchenko\",\n",
    "    \"år\": [2004],\n",
    "    \"nasjonalitet\": \"Ukraina\",\n",
    "    \"klubber\": [\"Milan\"]\n",
    "  },\n",
    "  {\n",
    "    \"navn\": \"Ronaldinho\",\n",
    "    \"år\": [2005],\n",
    "    \"nasjonalitet\": \"Brasil\",\n",
    "    \"klubber\": [\"Barcelona\"]\n",
    "  },\n",
    "  {\n",
    "    \"navn\": \"Fabio Cannavaro\",\n",
    "    \"år\": [2006],\n",
    "    \"nasjonalitet\": \"Italia\",\n",
    "    \"klubber\": [\"Real Madrid\"]\n",
    "  },\n",
    "  {\n",
    "    \"navn\": \"Kaká\",\n",
    "    \"år\": [2007],\n",
    "    \"nasjonalitet\": \"Brasil\",\n",
    "    \"klubber\": [\"Milan\"]\n",
    "  },\n",
    "  {\n",
    "    \"navn\": \"Cristiano Ronaldo\",\n",
    "    \"år\": [2008, 2013, 2014, 2016, 2017],\n",
    "    \"nasjonalitet\": \"Portugal\",\n",
    "    \"klubber\": [\"Manchester United\", \"Real Madrid\"]\n",
    "  },\n",
    "  {\n",
    "    \"navn\": \"Lionel Messi\",\n",
    "    \"år\": [2009, 2010, 2011, 2012, 2015, 2019, 2021, 2023],\n",
    "    \"nasjonalitet\": \"Argentina\",\n",
    "    \"klubber\": [\"Barcelona\", \"Paris Saint-Germain F.C.\", \"Inter Miami\"]\n",
    "  },\n",
    "  {\n",
    "    \"navn\": \"Luka Modric\",\n",
    "    \"år\": [2018],\n",
    "    \"nasjonalitet\": \"Kroatia\",\n",
    "    \"klubber\": [\"Real Madrid\"]\n",
    "  },\n",
    "  {\n",
    "    \"navn\": \"Karim Benzema\",\n",
    "    \"år\": [2022],\n",
    "    \"nasjonalitet\": \"Frankrike\",\n",
    "    \"klubber\": [\"Real Madrid\"]\n",
    "  }\n",
    "]\n",
    "\n",
    "\n",
    "# 1. Kopier listen med vinnere av gullballen 👇👇 inn i en python-fil og print ordboken til den første spilleren.\n",
    "print(gullballen[0])\n",
    "# 2. Lag en for-løkke som printer navn og nasjonalitet på hver spiller.\n",
    "for spiller in gullballen:\n",
    "    print(f\"{spiller['navn']}: {spiller['nasjonalitet']}\")\n",
    "# 3. Utvid koden slik at for-løkken også printer antall gullballer spillerne har vunnet.\n",
    "for spiller in gullballen:\n",
    "    antall_gullballer = len(spiller[\"år\"])\n",
    "    print(f\"{spiller['navn']} fra {spiller['nasjonalitet']} har vunnet {antall_gullballer}\")"
   ]
  },
  {
   "cell_type": "markdown",
   "metadata": {},
   "source": [
    "### Oppgave 2.10\n",
    "\n",
    "1. Kopier listen med informasjon over de 30 mest fulgte Instagram-kontoene 👇👇 inn i en python-fil.\n",
    "2. Hvor mange følgere har kontoene på listen i gjennomsnitt?\n",
    "3. Hvor mange kontoer på listen kommer ikke fra USA?\n"
   ]
  },
  {
   "cell_type": "code",
   "execution_count": 50,
   "metadata": {},
   "outputs": [
    {
     "name": "stdout",
     "output_type": "stream",
     "text": [
      "281.46 millioner\n",
      "10\n"
     ]
    }
   ],
   "source": [
    "top_30 = [\n",
    "    {\"name\": \"Cristiano Ronaldo\", \"account\": \"@cristiano\", \"followers\": 617.16, \"nationality\": \"Portugal\"},\n",
    "    {\"name\": \"Leo Messi\", \"account\": \"@leomessi\", \"followers\": 497.05, \"nationality\": \"Argentina\"},\n",
    "    {\"name\": \"Selena Gomez\", \"account\": \"@selenagomez\", \"followers\": 429.66, \"nationality\": \"United States\"},\n",
    "    {\"name\": \"Kylie Jenner\", \"account\": \"@kyliejenner\", \"followers\": 399.45, \"nationality\": \"United States\"},\n",
    "    {\"name\": \"Dwayne Johnson\", \"account\": \"@therock\", \"followers\": 395.59, \"nationality\": \"United States\"},\n",
    "    {\"name\": \"Ariana Grande\", \"account\": \"@arianagrande\", \"followers\": 380.78, \"nationality\": \"United States\"},\n",
    "    {\"name\": \"Kim Kardashian\", \"account\": \"@kimkardashian\", \"followers\": 364, \"nationality\": \"United States\"},\n",
    "    {\"name\": \"Beyoncé\", \"account\": \"@beyonce\", \"followers\": 319.6, \"nationality\": \"United States\"},\n",
    "    {\"name\": \"Khloé Kardashian\", \"account\": \"@khloekardashian\", \"followers\": 311.3, \"nationality\": \"United States\"},\n",
    "    {\"name\": \"Nike\", \"account\": \"@nike\", \"followers\": 306, \"nationality\": \"United States\"},\n",
    "    {\"name\": \"Justin Bieber\", \"account\": \"@justinbieber\", \"followers\": 304.9, \"nationality\": \"Canada\"},\n",
    "    {\"name\": \"Taylor Swift\", \"account\": \"@taylorswift\", \"followers\": 282.8, \"nationality\": \"United States\"},\n",
    "    {\"name\": \"Neymar Jr\", \"account\": \"@neymarjr\", \"followers\": 282.7, \"nationality\": \"Brazil\"},\n",
    "    {\"name\": \"Kendall Jenner\", \"account\": \"@kendalljenner\", \"followers\": 279.9, \"nationality\": \"United States\"},\n",
    "    {\"name\": \"Jennifer Lopez\", \"account\": \"@jlo\", \"followers\": 277.2, \"nationality\": \"United States\"},\n",
    "    {\"name\": \"Nicki Minaj\", \"account\": \"@nickiminaj\", \"followers\": 262.5, \"nationality\": \"Trinidad and Tobago\"},\n",
    "    {\"name\": \"National Geographic\", \"account\": \"@natgeo\", \"followers\": 206.9, \"nationality\": \"United States\"},\n",
    "    {\"name\": \"Lionel Andrés Messi Cuccittini\", \"account\": \"@leomessi10\", \"followers\": 201.8, \"nationality\": \"Argentina\"},\n",
    "    {\"name\": \"Miley Cyrus\", \"account\": \"@mileycyrus\", \"followers\": 198.7, \"nationality\": \"United States\"},\n",
    "    {\"name\": \"Katy Perry\", \"account\": \"@katyperry\", \"followers\": 198.4, \"nationality\": \"United States\"},\n",
    "    {\"name\": \"Kourtney Kardashian\", \"account\": \"@kourtneykardash\", \"followers\": 196.8, \"nationality\": \"United States\"},\n",
    "    {\"name\": \"Kevin Hart\", \"account\": \"@kevinhart4real\", \"followers\": 195.8, \"nationality\": \"United States\"},\n",
    "    {\"name\": \"Ellen DeGeneres\", \"account\": \"@theellenshow\", \"followers\": 194.7, \"nationality\": \"United States\"},\n",
    "    {\"name\": \"Virat Kohli\", \"account\": \"@virat.kohli\", \"followers\": 194.5, \"nationality\": \"India\"},\n",
    "    {\"name\": \"Billie Eilish\", \"account\": \"@billieeilish\", \"followers\": 193.9, \"nationality\": \"United States\"},\n",
    "    {\"name\": \"Rihanna\", \"account\": \"@badgalriri\", \"followers\": 191.5, \"nationality\": \"Barbados\"},\n",
    "    {\"name\": \"Zendaya\", \"account\": \"@zendaya\", \"followers\": 190.9, \"nationality\": \"United States\"},\n",
    "    {\"name\": \"Drake\", \"account\": \"@champagnepapi\", \"followers\": 190.8, \"nationality\": \"Canada\"},\n",
    "    {\"name\": \"Emma Watson\", \"account\": \"@emmawatson\", \"followers\": 189.7, \"nationality\": \"United Kingdom\"},\n",
    "    {\"name\": \"LeBron James\", \"account\": \"@kingjames\", \"followers\": 188.8, \"nationality\": \"United States\"}\n",
    "]\n",
    "\n",
    "# 1. Kopier listen med informasjon over de 30 mest fulgte Instagram-kontoene 👇👇 inn i en python-fil.\n",
    "# 2. Hvor mange følgere har kontoene på listen i gjennomsnitt?\n",
    "antall_followers_hver = []\n",
    "for influenser in top_30:\n",
    "    antall_followers_hver.append(influenser[\"followers\"])\n",
    "    totall_followers = sum(antall_followers_hver)\n",
    "    lengde = len(antall_followers_hver)\n",
    "    gjennomsnitt_followers = totall_followers / lengde\n",
    "\n",
    "print(f\"{round(gjennomsnitt_followers, 2)} millioner\")\n",
    "\n",
    "# 3. Hvor mange kontoer på listen kommer ikke fra USA?\n",
    "nation = []\n",
    "for influenser in top_30:\n",
    "    not_usa = influenser[\"nationality\"]\n",
    "    if not_usa != \"United States\":\n",
    "        nation.append(not_usa)\n",
    "    \n",
    "print(len(nation))\n"
   ]
  },
  {
   "cell_type": "markdown",
   "metadata": {},
   "source": [
    "### Oppgave 2.11\n",
    "\n",
    "1. Kopier listen med informasjon over de 30 mest befolkede land 👇👇 inn i en python-fil og print ordboken til Argentina.\n",
    "2. Lag en for-løkke som printer navn, hovedstad og antall språk for hvert land.\n",
    "3. Hvilket land har flest språk?\n",
    "4. Lag en ordbok som holder oversikt over språk og antall land som har språket som offisielt språk.\n",
    "    - Tips: Språk er en liste - du burde bruke en for-løkke som går gjennom språk inne i for-løkken for land.\n",
    "5. Sorter ordboken og print ut språket med flest land og antall land.\n",
    "    - Tips: [les eksempel om sortering av ordøker med verdier](https://it2.thorcc.no/databehandling-og-algoritmer/lokker-lister-og-ordboker#sortering-av-ordb%C3%B8ker-med-verdier)\n",
    "    - Fasit: `Engelsk: 7`"
   ]
  },
  {
   "cell_type": "code",
   "execution_count": 125,
   "metadata": {},
   "outputs": [
    {
     "name": "stdout",
     "output_type": "stream",
     "text": [
      "Sør-Afrika: 10\n",
      "{'Mandarin': 1, 'Hindi': 1, 'Engelsk': 7, 'Indonesisk': 1, 'Urdu': 1, 'Portugisisk': 1, 'Bengali': 1, 'Russisk': 1, 'Spansk': 4, 'Japansk': 1, 'Amharisk': 1, 'Filippinsk': 1, 'Arabisk': 1, 'Vietnamesisk': 1, 'Fransk': 2, 'Tyrkisk': 1, 'Persisk': 1, 'Tysk': 1, 'Thai': 1, 'Italiensk': 1, 'Afrikaans': 1, 'isiNdebele': 1, 'isiXhosa': 1, 'isiZulu': 1, 'sesotho': 1, 'Setswana': 1, 'siSwati': 1, 'Tshivenda': 1, 'Xitsonga': 1, 'Burmese': 1, 'Koreansk': 1, 'Swahili': 1}\n"
     ]
    },
    {
     "ename": "KeyError",
     "evalue": "'a'",
     "output_type": "error",
     "traceback": [
      "\u001b[1;31m---------------------------------------------------------------------------\u001b[0m",
      "\u001b[1;31mKeyError\u001b[0m                                  Traceback (most recent call last)",
      "Cell \u001b[1;32mIn[125], line 69\u001b[0m\n\u001b[0;32m     64\u001b[0m \u001b[38;5;66;03m# 5. Sorter ordboken og print ut språket med flest land og antall land.\u001b[39;00m\n\u001b[0;32m     68\u001b[0m \u001b[38;5;28;01mfor\u001b[39;00m språk \u001b[38;5;129;01min\u001b[39;00m antall_land_språk:\n\u001b[1;32m---> 69\u001b[0m     nest \u001b[38;5;241m=\u001b[39m \u001b[43mantall_land_språk\u001b[49m\u001b[43m[\u001b[49m\u001b[43mspråk\u001b[49m\u001b[43m[\u001b[49m\u001b[38;5;241;43m1\u001b[39;49m\u001b[43m]\u001b[49m\u001b[43m]\u001b[49m\n\u001b[0;32m     70\u001b[0m     flest_land \u001b[38;5;241m=\u001b[39m antall_land_språk[\u001b[38;5;124m\"\u001b[39m\u001b[38;5;124mMandarin\u001b[39m\u001b[38;5;124m\"\u001b[39m]\n\u001b[0;32m     71\u001b[0m     \u001b[38;5;28;01mif\u001b[39;00m nest \u001b[38;5;241m>\u001b[39m flest_land:\n",
      "\u001b[1;31mKeyError\u001b[0m: 'a'"
     ]
    }
   ],
   "source": [
    "land_info = [\n",
    "    {\"land\": \"Kina\", \"hovedstad\": \"Beijing\", \"befolkning\": 1410000000, \"språk\": [\"Mandarin\"]},\n",
    "    {\"land\": \"India\", \"hovedstad\": \"New Delhi\", \"befolkning\": 1390000000, \"språk\": [\"Hindi\", \"Engelsk\"]},\n",
    "    {\"land\": \"USA\", \"hovedstad\": \"Washington, D.C.\", \"befolkning\": 331000000, \"språk\": [\"Engelsk\"]},\n",
    "    {\"land\": \"Indonesia\", \"hovedstad\": \"Jakarta\", \"befolkning\": 273000000, \"språk\": [\"Indonesisk\"]},\n",
    "    {\"land\": \"Pakistan\", \"hovedstad\": \"Islamabad\", \"befolkning\": 225000000, \"språk\": [\"Urdu\", \"Engelsk\"]},\n",
    "    {\"land\": \"Brasil\", \"hovedstad\": \"Brasília\", \"befolkning\": 213000000, \"språk\": [\"Portugisisk\"]},\n",
    "    {\"land\": \"Nigeria\", \"hovedstad\": \"Abuja\", \"befolkning\": 211000000, \"språk\": [\"Engelsk\"]},\n",
    "    {\"land\": \"Bangladesh\", \"hovedstad\": \"Dhaka\", \"befolkning\": 166000000, \"språk\": [\"Bengali\"]},\n",
    "    {\"land\": \"Russland\", \"hovedstad\": \"Moskva\", \"befolkning\": 146000000, \"språk\": [\"Russisk\"]},\n",
    "    {\"land\": \"Mexico\", \"hovedstad\": \"Mexico City\", \"befolkning\": 128000000, \"språk\": [\"Spansk\"]},\n",
    "    {\"land\": \"Japan\", \"hovedstad\": \"Tokyo\", \"befolkning\": 125000000, \"språk\": [\"Japansk\"]},\n",
    "    {\"land\": \"Etiopia\", \"hovedstad\": \"Addis Ababa\", \"befolkning\": 118000000, \"språk\": [\"Amharisk\"]},\n",
    "    {\"land\": \"Filippinene\", \"hovedstad\": \"Manila\", \"befolkning\": 113000000, \"språk\": [\"Filippinsk\"]},\n",
    "    {\"land\": \"Egypt\", \"hovedstad\": \"Kairo\", \"befolkning\": 104000000, \"språk\": [\"Arabisk\"]},\n",
    "    {\"land\": \"Vietnam\", \"hovedstad\": \"Hanoi\", \"befolkning\": 97400000, \"språk\": [\"Vietnamesisk\"]},\n",
    "    {\"land\": \"DR Kongo\", \"hovedstad\": \"Kinshasa\", \"befolkning\": 90000000, \"språk\": [\"Fransk\"]},\n",
    "    {\"land\": \"Turkey\", \"hovedstad\": \"Ankara\", \"befolkning\": 83700000, \"språk\": [\"Tyrkisk\"]},\n",
    "    {\"land\": \"Iran\", \"hovedstad\": \"Teheran\", \"befolkning\": 83700000, \"språk\": [\"Persisk\"]},\n",
    "    {\"land\": \"Tyskland\", \"hovedstad\": \"Berlin\", \"befolkning\": 83000000, \"språk\": [\"Tysk\"]},\n",
    "    {\"land\": \"Thailand\", \"hovedstad\": \"Bangkok\", \"befolkning\": 70000000, \"språk\": [\"Thai\"]},\n",
    "    {\"land\": \"Frankrike\", \"hovedstad\": \"Paris\", \"befolkning\": 67000000, \"språk\": [\"Fransk\"]},\n",
    "    {\"land\": \"Storbritannia\", \"hovedstad\": \"London\", \"befolkning\": 67000000, \"språk\": [\"Engelsk\"]},\n",
    "    {\"land\": \"Italia\", \"hovedstad\": \"Roma\", \"befolkning\": 60300000, \"språk\": [\"Italiensk\"]},\n",
    "    {\"land\": \"Sør-Afrika\", \"hovedstad\": \"Pretoria, Cape Town, Bloemfontein\", \"befolkning\": 60000000,\n",
    "     \"språk\": [\"Afrikaans\", \"Engelsk\", \"isiNdebele\", \"isiXhosa\", \"isiZulu\", \"sesotho\", \"Setswana\", \"siSwati\", \"Tshivenda\", \"Xitsonga\"]},\n",
    "    {\"land\": \"Myanmar\", \"hovedstad\": \"Naypyidaw\", \"befolkning\": 54400000, \"språk\": [\"Burmese\"]},\n",
    "    {\"land\": \"Sør-Korea\", \"hovedstad\": \"Seoul\", \"befolkning\": 51700000, \"språk\": [\"Koreansk\"]},\n",
    "    {\"land\": \"Colombia\", \"hovedstad\": \"Bogotá\", \"befolkning\": 50300000, \"språk\": [\"Spansk\"]},\n",
    "    {\"land\": \"Kenya\", \"hovedstad\": \"Nairobi\", \"befolkning\": 49000000, \"språk\": [\"Swahili\", \"Engelsk\"]},\n",
    "    {\"land\": \"Spania\", \"hovedstad\": \"Madrid\", \"befolkning\": 47000000, \"språk\": [\"Spansk\"]},\n",
    "    {\"land\": \"Argentina\", \"hovedstad\": \"Buenos Aires\", \"befolkning\": 45000000, \"språk\": [\"Spansk\"]},\n",
    "]\n",
    "\n",
    "\n",
    " \n",
    "# 1. Kopier listen med informasjon over de 30 mest befolkede land 👇👇 inn i en python-fil og print ordboken til Argentina.\n",
    "# for land in land_info:\n",
    "#     argentina = land[\"land\"]\n",
    "#     if argentina == \"Argentina\":\n",
    "#         print(land)\n",
    "# 2. Lag en for-løkke som printer navn, hovedstad og antall språk for hvert land.\n",
    "# for land in land_info:\n",
    "#     antall_språk = len(land[\"språk\"])\n",
    "#     print(f\"{land['land']} sin hovedstad er {land['hovedstad']}, og har {antall_språk} språk i landet\")\n",
    "# 3. Hvilket land har flest språk?\n",
    "flest_språk = land_info[0]\n",
    "for land in land_info:\n",
    "    antall_språk = len(land[\"språk\"])\n",
    "    if antall_språk > len(flest_språk[\"språk\"]):\n",
    "        flest_språk = land\n",
    "print(f\"{flest_språk['land']}: {len(flest_språk['språk'])}\")\n",
    "# 4. Lag en ordbok som holder oversikt over språk og antall land som har språket som offisielt språk.\n",
    "antall_land_språk = {}\n",
    "for land in land_info:\n",
    "    for språk in land[\"språk\"]:\n",
    "        if språk not in antall_land_språk:\n",
    "            antall_land_språk[språk] = 1\n",
    "        else:\n",
    "            antall_land_språk[språk] += 1\n",
    "# print\n",
    "print(antall_land_språk)\n",
    "\n",
    "# 5. Sorter ordboken og print ut språket med flest land og antall land.\n",
    "\n",
    "\n",
    "\n",
    "for språk in antall_land_språk:\n",
    "    nest = antall_land_språk[språk]\n",
    "    flest_land = antall_land_språk[\"Mandarin\"]\n",
    "    if nest > flest_land:\n",
    "        flest_land = nest\n",
    "    \n",
    "\n",
    "print(flest_land)\n"
   ]
  },
  {
   "cell_type": "code",
   "execution_count": null,
   "metadata": {},
   "outputs": [],
   "source": []
  }
 ],
 "metadata": {
  "kernelspec": {
   "display_name": "Python 3",
   "language": "python",
   "name": "python3"
  },
  "language_info": {
   "codemirror_mode": {
    "name": "ipython",
    "version": 3
   },
   "file_extension": ".py",
   "mimetype": "text/x-python",
   "name": "python",
   "nbconvert_exporter": "python",
   "pygments_lexer": "ipython3",
   "version": "3.11.5"
  }
 },
 "nbformat": 4,
 "nbformat_minor": 2
}
