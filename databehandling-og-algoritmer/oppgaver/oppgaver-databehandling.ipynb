{
 "cells": [
  {
   "cell_type": "code",
   "execution_count": 1,
   "metadata": {},
   "outputs": [
    {
     "name": "stdout",
     "output_type": "stream",
     "text": [
      "Spotify weekly top songs global 2023 uke 2\n"
     ]
    }
   ],
   "source": [
    "print(\"Spotify weekly top songs global 2023 uke 2\")"
   ]
  },
  {
   "cell_type": "code",
   "execution_count": 3,
   "metadata": {},
   "outputs": [],
   "source": [
    "import json\n",
    "with open(\"spotify_top.json\", encoding=\"utf-8\") as fil:\n",
    "    sanger = json.load(fil)"
   ]
  },
  {
   "cell_type": "code",
   "execution_count": 16,
   "metadata": {},
   "outputs": [
    {
     "name": "stdout",
     "output_type": "stream",
     "text": [
      "358\n"
     ]
    }
   ],
   "source": [
    "# Oppgave 1-1\n",
    "størst = sanger[0]\n",
    "for sang in sanger[1:]:\n",
    "  if sang[\"uker_paa_listen\"] > størst[\"uker_paa_listen\"]:\n",
    "    størst = sang\n",
    "print(størst[\"uker_paa_listen\"])"
   ]
  },
  {
   "cell_type": "code",
   "execution_count": 29,
   "metadata": {},
   "outputs": [
    {
     "name": "stdout",
     "output_type": "stream",
     "text": [
      "120017297\n"
     ]
    }
   ],
   "source": [
    "# Oppgave 1-2\n",
    "taylor_streams = []\n",
    "for sang in sanger:\n",
    "    if sang[\"artist\"] == \"Taylor Swift\":\n",
    "        streams=sang[\"antall_streams\"]\n",
    "        taylor_streams.append(streams)\n",
    "        \n",
    "print(sum(taylor_streams))\n"
   ]
  },
  {
   "cell_type": "code",
   "execution_count": 49,
   "metadata": {},
   "outputs": [
    {
     "name": "stdout",
     "output_type": "stream",
     "text": [
      "Murder On The Dancefloor: 110\n"
     ]
    }
   ],
   "source": [
    "# Oppgave 1-3\n",
    "flest_plasseringer = sanger[0][\"forrige_plassering\"] - sanger[0][\"plassering\"]\n",
    "plass = []\n",
    "for sang in sanger:\n",
    "    plassering = sang[\"forrige_plassering\"] - sang[\"plassering\"]\n",
    "    if plassering > flest_plasseringer:\n",
    "        flest_plasseringer = plassering\n",
    "        plass.append(sang)\n",
    "\n",
    "\n",
    "print(f\"{plass[-1]['navn']}: {flest_plasseringer}\")\n"
   ]
  },
  {
   "cell_type": "code",
   "execution_count": 86,
   "metadata": {},
   "outputs": [],
   "source": [
    "import json\n",
    "with open(\"imdb_top.json\", encoding=\"utf-8\") as fil:\n",
    "    filmer = json.load(fil)"
   ]
  },
  {
   "cell_type": "code",
   "execution_count": 55,
   "metadata": {},
   "outputs": [
    {
     "name": "stdout",
     "output_type": "stream",
     "text": [
      "The Shawshank Redemption: 9.3\n"
     ]
    }
   ],
   "source": [
    "# Oppgave 2-1 \n",
    "høyest_karakter = filmer[0][\"karakter\"]\n",
    "for film in filmer:\n",
    "    if film[\"karakter\"] > høyest_karakter:\n",
    "        høyest_karakter = film[\"karakter\"]\n",
    "        navn = film[\"navn\"]\n",
    "\n",
    "print(f\"{navn}: {høyest_karakter}\")\n"
   ]
  },
  {
   "cell_type": "code",
   "execution_count": 61,
   "metadata": {},
   "outputs": [
    {
     "name": "stdout",
     "output_type": "stream",
     "text": [
      "8.32\n"
     ]
    }
   ],
   "source": [
    "# Oppgave 2-2\n",
    "karakterer = []\n",
    "for film in filmer:\n",
    "    karakterer.append(film[\"karakter\"])\n",
    "    gjennomsnitt = sum(karakterer) / len(karakterer)\n",
    "\n",
    "print(round(gjennomsnitt, 2))\n"
   ]
  },
  {
   "cell_type": "code",
   "execution_count": 73,
   "metadata": {},
   "outputs": [
    {
     "name": "stdout",
     "output_type": "stream",
     "text": [
      "Gjennomsnitet for de 10 første filmene er 8.29\n"
     ]
    }
   ],
   "source": [
    "# Oppgave 2-3\n",
    "karakterer = []\n",
    "for film in filmer[:10]:\n",
    "    karakterer.append(film[\"karakter\"])\n",
    "    gjennomsnitt = sum(karakterer) / len(karakterer)\n",
    "print(f\"Gjennomsnitet for de 10 første filmene er {round(gjennomsnitt, 2)}\")"
   ]
  },
  {
   "cell_type": "code",
   "execution_count": 90,
   "metadata": {},
   "outputs": [
    {
     "name": "stdout",
     "output_type": "stream",
     "text": [
      "{'Akira Kurosawa': 7, 'Billy Wilder': 5, 'Damien Chazelle': 1, 'Gavin O&apos;Connor': 1, 'Andrew Stanton': 2, 'Alfred Hitchcock': 6, 'James McTeigue': 1, 'Pete Docter': 3, 'Bob Peterson': 1, 'Clint Eastwood': 3, 'Yasujirô Ozu': 1, 'Danny Boyle': 1, 'Lee Unkrich': 4, 'John Lasseter': 1, 'Hayao Miyazaki': 4, 'Robert Mulligan': 1, 'Ernst Lubitsch': 1, 'Martin McDonagh': 1, 'Paul Thomas Anderson': 1, 'Martin Scorsese': 7, 'Victor Fleming': 2, 'George Cukor': 2, 'Mervyn LeRoy': 1, 'Bryan Singer': 1, 'Peter Weir': 2, 'John Huston': 1, 'Carol Reed': 1, 'John Carpenter': 1, 'James Cameron': 3, 'George Roy Hill': 1, 'Robert Wise': 1, 'M. Night Shyamalan': 1, 'Jonathan Demme': 1, 'Stanley Kubrick': 7, 'Frank Darabont': 2, 'Christopher Nolan': 7, 'Roman Polanski': 2, 'Lana Wachowski': 1, 'Lilly Wachowski': 1, 'Peter Jackson': 3, 'Roger Allers': 1, 'Rob Minkoff': 1, 'Charles Chaplin': 5, 'Brad Bird': 2, 'Tate Taylor': 1, 'John Sturges': 1, 'John Ford': 1, 'Wes Anderson': 1, 'Francis Ford Coppola': 3, 'Clyde Bruckman': 1, 'Buster Keaton': 2, 'Florian Zeller': 1, 'William Friedkin': 1, 'Irvin Kershner': 1, 'David Lynch': 1, 'Michael Cimino': 1, 'David Lean': 2, 'Joel Coen': 3, 'Ethan Coen': 3, 'William Wyler': 2, 'Matt Reeves': 1, 'Aamir Khan': 1, 'Amole Gupte': 1, 'Richard Marquand': 1, 'George Lucas': 1, 'Rob Reiner': 1, 'Tom McCarthy': 1, 'Jon Watts': 1, 'Bob Persichetti': 1, 'Peter Ramsey': 1, 'Rodney Rothman': 1, 'Guy Ritchie': 2, 'Ingmar Bergman': 3, 'Stanley Donen': 1, 'Gene Kelly': 1, 'Masaki Kobayashi': 1, 'David Fincher': 3, 'Steven Spielberg': 7, 'Brian De Palma': 1, 'Bong Joon Ho': 2, 'Ron Howard': 2, 'Lenny Abrahamson': 1, 'John G. Avildsen': 1, 'Quentin Tarantino': 5, 'Darren Aronofsky': 1, 'Damián Szifron': 1, 'Jan Pinkava': 1, 'Denis Villeneuve': 3, 'Oliver Stone': 1, 'Gore Verbinski': 1, 'Sergio Leone': 4, 'Satyajit Ray': 1, 'Milos Forman': 2, 'Elia Kazan': 1, 'Park Chan-wook': 2, 'Giuseppe Tornatore': 1, 'Sidney Lumet': 2, 'Frank Capra': 3, 'Terry Gilliam': 1, 'Terry Jones': 2, 'David Silverman': 1, 'Fritz Lang': 2, 'Adam Elliot': 1, 'George Miller': 1, 'Luc Besson': 1, 'James Mangold': 2, 'François Truffaut': 1, 'Henri-Georges Clouzot': 1, 'Jean-Pierre Jeunet': 1, 'Vittorio De Sica': 1, 'Roberto Benigni': 1, 'Carl Theodor Dreyer': 1, 'Mathieu Kassovitz': 1, 'Gillo Pontecorvo': 1, 'Curtis Hanson': 1, 'Sergio Pablos': 1, 'Carlos Martínez López': 1, 'Makoto Shinkai': 1, 'Stanley Kramer': 1, 'Todd Phillips': 1, 'Asghar Farhadi': 1, 'Thomas Vinterberg': 1, 'Olivier Nakache': 1, 'Éric Toledano': 1, 'Sean Penn': 1, 'Ronnie Del Carmen': 1, 'Jim Sheridan': 1, 'Elem Klimov': 1, 'Dean DeBlois': 1, 'Chris Sanders': 1, 'Terry George': 1, 'Isao Takahata': 1, 'Michael Mann': 1, 'David Yates': 1, 'Thomas Kail': 1, 'Mel Gibson': 2, 'Lasse Hallström': 1, 'Harold Ramis': 1, 'Peter Farrelly': 1, 'Gus Van Sant': 1, 'Sam Wood': 1, 'Ridley Scott': 3, 'Richard Attenborough': 1, 'Robert Zemeckis': 2, 'Michel Gondry': 1, 'Juan José Campanella': 1, 'Guillermo del Toro': 1, 'John McTiernan': 1, 'Oliver Hirschbiegel': 1, 'Florian Henckel von Donnersmarck': 1, 'Wolfgang Petersen': 1, 'Nitesh Tiwari': 1, 'Kevin Costner': 1, 'Stuart Rosenberg': 1, 'Adrian Molina': 1, 'Orson Welles': 1, 'Fernando Meirelles': 1, 'Kátia Lund': 1, 'Michael Curtiz': 1, 'Nadine Labaki': 1, 'Richard Linklater': 2, 'Gary Trousdale': 1, 'Kirk Wise': 1, 'Majid Majidi': 1, 'Cagan Irmak': 1, 'Anthony Russo': 2, 'Joe Russo': 2, 'Alejandro G. Iñárritu': 1, 'Tony Kaye': 1, 'Sam Mendes': 2, 'Joseph L. Mankiewicz': 1, 'Ron Clements': 1, 'John Musker': 1, 'Rajkumar Hirani': 1, 'Steve McQueen': 1}\n",
      "[('Damien Chazelle', 1), ('Gavin O&apos;Connor', 1), ('James McTeigue', 1), ('Bob Peterson', 1), ('Yasujirô Ozu', 1), ('Danny Boyle', 1), ('John Lasseter', 1), ('Robert Mulligan', 1), ('Ernst Lubitsch', 1), ('Martin McDonagh', 1), ('Paul Thomas Anderson', 1), ('Mervyn LeRoy', 1), ('Bryan Singer', 1), ('John Huston', 1), ('Carol Reed', 1), ('John Carpenter', 1), ('George Roy Hill', 1), ('Robert Wise', 1), ('M. Night Shyamalan', 1), ('Jonathan Demme', 1), ('Lana Wachowski', 1), ('Lilly Wachowski', 1), ('Roger Allers', 1), ('Rob Minkoff', 1), ('Tate Taylor', 1), ('John Sturges', 1), ('John Ford', 1), ('Wes Anderson', 1), ('Clyde Bruckman', 1), ('Florian Zeller', 1), ('William Friedkin', 1), ('Irvin Kershner', 1), ('David Lynch', 1), ('Michael Cimino', 1), ('Matt Reeves', 1), ('Aamir Khan', 1), ('Amole Gupte', 1), ('Richard Marquand', 1), ('George Lucas', 1), ('Rob Reiner', 1), ('Tom McCarthy', 1), ('Jon Watts', 1), ('Bob Persichetti', 1), ('Peter Ramsey', 1), ('Rodney Rothman', 1), ('Stanley Donen', 1), ('Gene Kelly', 1), ('Masaki Kobayashi', 1), ('Brian De Palma', 1), ('Lenny Abrahamson', 1), ('John G. Avildsen', 1), ('Darren Aronofsky', 1), ('Damián Szifron', 1), ('Jan Pinkava', 1), ('Oliver Stone', 1), ('Gore Verbinski', 1), ('Satyajit Ray', 1), ('Elia Kazan', 1), ('Giuseppe Tornatore', 1), ('Terry Gilliam', 1), ('David Silverman', 1), ('Adam Elliot', 1), ('George Miller', 1), ('Luc Besson', 1), ('François Truffaut', 1), ('Henri-Georges Clouzot', 1), ('Jean-Pierre Jeunet', 1), ('Vittorio De Sica', 1), ('Roberto Benigni', 1), ('Carl Theodor Dreyer', 1), ('Mathieu Kassovitz', 1), ('Gillo Pontecorvo', 1), ('Curtis Hanson', 1), ('Sergio Pablos', 1), ('Carlos Martínez López', 1), ('Makoto Shinkai', 1), ('Stanley Kramer', 1), ('Todd Phillips', 1), ('Asghar Farhadi', 1), ('Thomas Vinterberg', 1), ('Olivier Nakache', 1), ('Éric Toledano', 1), ('Sean Penn', 1), ('Ronnie Del Carmen', 1), ('Jim Sheridan', 1), ('Elem Klimov', 1), ('Dean DeBlois', 1), ('Chris Sanders', 1), ('Terry George', 1), ('Isao Takahata', 1), ('Michael Mann', 1), ('David Yates', 1), ('Thomas Kail', 1), ('Lasse Hallström', 1), ('Harold Ramis', 1), ('Peter Farrelly', 1), ('Gus Van Sant', 1), ('Sam Wood', 1), ('Richard Attenborough', 1), ('Michel Gondry', 1), ('Juan José Campanella', 1), ('Guillermo del Toro', 1), ('John McTiernan', 1), ('Oliver Hirschbiegel', 1), ('Florian Henckel von Donnersmarck', 1), ('Wolfgang Petersen', 1), ('Nitesh Tiwari', 1), ('Kevin Costner', 1), ('Stuart Rosenberg', 1), ('Adrian Molina', 1), ('Orson Welles', 1), ('Fernando Meirelles', 1), ('Kátia Lund', 1), ('Michael Curtiz', 1), ('Nadine Labaki', 1), ('Gary Trousdale', 1), ('Kirk Wise', 1), ('Majid Majidi', 1), ('Cagan Irmak', 1), ('Alejandro G. Iñárritu', 1), ('Tony Kaye', 1), ('Joseph L. Mankiewicz', 1), ('Ron Clements', 1), ('John Musker', 1), ('Rajkumar Hirani', 1), ('Steve McQueen', 1), ('Andrew Stanton', 2), ('Victor Fleming', 2), ('George Cukor', 2), ('Peter Weir', 2), ('Frank Darabont', 2), ('Roman Polanski', 2), ('Brad Bird', 2), ('Buster Keaton', 2), ('David Lean', 2), ('William Wyler', 2), ('Guy Ritchie', 2), ('Bong Joon Ho', 2), ('Ron Howard', 2), ('Milos Forman', 2), ('Park Chan-wook', 2), ('Sidney Lumet', 2), ('Terry Jones', 2), ('Fritz Lang', 2), ('James Mangold', 2), ('Mel Gibson', 2), ('Robert Zemeckis', 2), ('Richard Linklater', 2), ('Anthony Russo', 2), ('Joe Russo', 2), ('Sam Mendes', 2), ('Pete Docter', 3), ('Clint Eastwood', 3), ('James Cameron', 3), ('Peter Jackson', 3), ('Francis Ford Coppola', 3), ('Joel Coen', 3), ('Ethan Coen', 3), ('Ingmar Bergman', 3), ('David Fincher', 3), ('Denis Villeneuve', 3), ('Frank Capra', 3), ('Ridley Scott', 3), ('Lee Unkrich', 4), ('Hayao Miyazaki', 4), ('Sergio Leone', 4), ('Billy Wilder', 5), ('Charles Chaplin', 5), ('Quentin Tarantino', 5), ('Alfred Hitchcock', 6), ('Akira Kurosawa', 7), ('Martin Scorsese', 7), ('Stanley Kubrick', 7), ('Christopher Nolan', 7), ('Steven Spielberg', 7)]\n",
      "Steven Spielberg: 7\n"
     ]
    }
   ],
   "source": [
    "# Oppgave 2-4\n",
    "regisørrer = {}\n",
    "for film in filmer:\n",
    "    for regisør in film[\"regissører\"]:\n",
    "        if regisør not in regisørrer:\n",
    "            regisørrer[regisør] = 1\n",
    "        else:\n",
    "            regisørrer[regisør] += 1\n",
    "       \n",
    "print(regisørrer)\n",
    "flest_filmer = regisørrer.items()\n",
    "\n",
    "regisørrer_sortert = sorted(flest_filmer, key=lambda person: person[1])\n",
    "print(regisørrer_sortert)\n",
    "flest_filmer = regisørrer_sortert[-1][0]\n",
    "antall_filmer = regisørrer_sortert[-1][1]\n",
    "print(f\"{flest_filmer}: {antall_filmer}\")"
   ]
  },
  {
   "cell_type": "code",
   "execution_count": null,
   "metadata": {},
   "outputs": [],
   "source": []
  }
 ],
 "metadata": {
  "kernelspec": {
   "display_name": "Python 3",
   "language": "python",
   "name": "python3"
  },
  "language_info": {
   "codemirror_mode": {
    "name": "ipython",
    "version": 3
   },
   "file_extension": ".py",
   "mimetype": "text/x-python",
   "name": "python",
   "nbconvert_exporter": "python",
   "pygments_lexer": "ipython3",
   "version": "3.11.5"
  }
 },
 "nbformat": 4,
 "nbformat_minor": 2
}
